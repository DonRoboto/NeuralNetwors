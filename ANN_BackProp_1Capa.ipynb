{
  "nbformat": 4,
  "nbformat_minor": 0,
  "metadata": {
    "colab": {
      "name": "ANN_BackProp_1Capa.ipynb",
      "provenance": [],
      "authorship_tag": "ABX9TyMwmJz4pjKFzJh2GmSBbsSB",
      "include_colab_link": true
    },
    "kernelspec": {
      "name": "python3",
      "display_name": "Python 3"
    }
  },
  "cells": [
    {
      "cell_type": "markdown",
      "metadata": {
        "id": "view-in-github",
        "colab_type": "text"
      },
      "source": [
        "<a href=\"https://colab.research.google.com/github/DonRoboto/RedesNeuronales/blob/master/ANN_BackProp_1Capa.ipynb\" target=\"_parent\"><img src=\"https://colab.research.google.com/assets/colab-badge.svg\" alt=\"Open In Colab\"/></a>"
      ]
    },
    {
      "cell_type": "code",
      "metadata": {
        "id": "2SSIF27RQOW5",
        "colab_type": "code",
        "colab": {}
      },
      "source": [
        "import numpy as np"
      ],
      "execution_count": 0,
      "outputs": []
    },
    {
      "cell_type": "code",
      "metadata": {
        "id": "jm9wzDliQV9s",
        "colab_type": "code",
        "colab": {}
      },
      "source": [
        "def sigmoide(z):\n",
        "    return 1 / (1 + np.exp(-z))"
      ],
      "execution_count": 0,
      "outputs": []
    },
    {
      "cell_type": "code",
      "metadata": {
        "id": "uEcXdh1bQXqp",
        "colab_type": "code",
        "colab": {}
      },
      "source": [
        "def derivada_sigmoide(x):\n",
        "    return np.multiply(sigmoide(x), (1.0 - sigmoide(x)))"
      ],
      "execution_count": 0,
      "outputs": []
    },
    {
      "cell_type": "code",
      "metadata": {
        "id": "k78uJD1BQcyd",
        "colab_type": "code",
        "colab": {}
      },
      "source": [
        "def entropia_cruzada_binaria(y, p):\n",
        "    p[p == 0] = np.nextafter(0., 1.)\n",
        "    p[p == 1] = np.nextafter(1., 0.)\n",
        "    return -(np.log(p[y == 1]).sum() + np.log(1 - p[y == 0]).sum())"
      ],
      "execution_count": 0,
      "outputs": []
    },
    {
      "cell_type": "code",
      "metadata": {
        "id": "LbvGbJXAQhOB",
        "colab_type": "code",
        "colab": {}
      },
      "source": [
        "def entropia_cruzada_binaria(y, p):\n",
        "    p[p == 0] = np.nextafter(0., 1.)\n",
        "    p[p == 1] = np.nextafter(1., 0.)\n",
        "    return -(np.log(p[y == 1]).sum() + np.log(1 - p[y == 0]).sum())"
      ],
      "execution_count": 0,
      "outputs": []
    },
    {
      "cell_type": "code",
      "metadata": {
        "id": "q1GUVlb0QjVl",
        "colab_type": "code",
        "colab": {}
      },
      "source": [
        "def exactitud(y, y_predicha):\n",
        "    return (y == y_predicha).mean() * 100"
      ],
      "execution_count": 0,
      "outputs": []
    },
    {
      "cell_type": "code",
      "metadata": {
        "id": "zMbe0Z1AQniu",
        "colab_type": "code",
        "colab": {}
      },
      "source": [
        "def hacia_adelante(x, W1, b1):\n",
        "  a1 = x[:, np.newaxis]\n",
        "\n",
        "  z2 = np.dot(W1.T, a1) + b1\n",
        "  a2 = sigmoide(z2)  \n",
        "\n",
        "  y_hat = a2\n",
        "  \n",
        "  return z2, a2, y_hat"
      ],
      "execution_count": 0,
      "outputs": []
    },
    {
      "cell_type": "code",
      "metadata": {
        "id": "bx3A5jATQrlI",
        "colab_type": "code",
        "colab": {}
      },
      "source": [
        "def retropropagacion(X, y, alpha = 0.01, n_epocas = 100, n_ocultas = 10):\n",
        "    n_ejemplos = X.shape[0]\n",
        "    n_entradas = X.shape[1]\n",
        "    \n",
        "    # Inicialización de las matrices de pesos W y V\n",
        "    W1 = np.sqrt(1.0 / n_entradas) * np.random.randn(n_entradas, n_ocultas)\n",
        "    b1 = np.zeros((n_ocultas, 1))\n",
        "    \n",
        "    perdidas = np.zeros((n_epocas))\n",
        "    exactitudes = np.zeros((n_epocas))\n",
        "    y_predicha = np.zeros((y.shape))\n",
        "    for i in range(n_epocas):\n",
        "        for j in range(n_ejemplos):\n",
        "            z2, a2, y_hat = hacia_adelante(X[j], W1, b1)\n",
        "\n",
        "            # cálculo de gradiente para W por retropropagación\n",
        "            delta = (y_hat - y[j]) * derivada_sigmoide(z2)\n",
        "            W1 = W1 - alpha * np.outer(a2, delta)\n",
        "            b1 = b1 - alpha * delta\n",
        "\n",
        "            y_predicha[j] = y_hat\n",
        "            \n",
        "        # calcula error en época\n",
        "        perdidas[i] = entropia_cruzada_binaria(y, y_predicha)\n",
        "        exactitudes[i] = exactitud(y, np.round(y_predicha))\n",
        "        if i%10==0:\n",
        "          print('Epoch {0}: Error = {1} Exactitud = {2}'.format(i, \n",
        "                                                              perdidas[i], \n",
        "                                                              exactitudes[i]))\n",
        "\n",
        "    return W1, b1, perdidas, exactitudes"
      ],
      "execution_count": 0,
      "outputs": []
    },
    {
      "cell_type": "code",
      "metadata": {
        "id": "GJIKptVRQtvr",
        "colab_type": "code",
        "colab": {}
      },
      "source": [
        "X = np.array([[0, 0], [0, 1], [1, 0], [1, 1]])\n",
        "y = np.array([[0, 1, 1, 1]]).T"
      ],
      "execution_count": 0,
      "outputs": []
    },
    {
      "cell_type": "code",
      "metadata": {
        "id": "Yo-uFsiWQvvx",
        "colab_type": "code",
        "colab": {
          "base_uri": "https://localhost:8080/",
          "height": 203
        },
        "outputId": "09db2092-edf8-462c-8795-7d4b06e192c2"
      },
      "source": [
        "np.random.seed(0)\n",
        "W1t, b1t, perdidas, exactitudes = retropropagacion(X, \n",
        "                                                 y, \n",
        "                                                 alpha = 1.0, \n",
        "                                                 n_epocas = 100,\n",
        "                                                 n_ocultas = 1)"
      ],
      "execution_count": 60,
      "outputs": [
        {
          "output_type": "stream",
          "text": [
            "Epoch 0: Error = 1.7737376440972534 Exactitud = 100.0\n",
            "Epoch 10: Error = 1.546466750888105 Exactitud = 75.0\n",
            "Epoch 20: Error = 1.4475813771720802 Exactitud = 75.0\n",
            "Epoch 30: Error = 1.344337358023663 Exactitud = 100.0\n",
            "Epoch 40: Error = 1.23509500487156 Exactitud = 100.0\n",
            "Epoch 50: Error = 1.1239866819489883 Exactitud = 100.0\n",
            "Epoch 60: Error = 1.0157685077521539 Exactitud = 100.0\n",
            "Epoch 70: Error = 0.9145686343233361 Exactitud = 100.0\n",
            "Epoch 80: Error = 0.8231279768621282 Exactitud = 100.0\n",
            "Epoch 90: Error = 0.7426174623375512 Exactitud = 100.0\n"
          ],
          "name": "stdout"
        }
      ]
    },
    {
      "cell_type": "code",
      "metadata": {
        "id": "_fQ1T-COQyag",
        "colab_type": "code",
        "colab": {
          "base_uri": "https://localhost:8080/",
          "height": 265
        },
        "outputId": "c8ab964e-889a-4147-a20b-5413ee6e40fe"
      },
      "source": [
        "import matplotlib.pyplot as plt\n",
        "plt.plot(np.arange(perdidas.size), perdidas, label='ECB')\n",
        "plt.plot(np.arange(exactitudes.size), exactitudes, label='Exactitud')\n",
        "plt.legend()\n",
        "plt.grid(True)\n",
        "plt.show()"
      ],
      "execution_count": 61,
      "outputs": [
        {
          "output_type": "display_data",
          "data": {
            "image/png": "[encoded data removed]",
            "text/plain": [
              "<Figure size 432x288 with 1 Axes>"
            ]
          },
          "metadata": {
            "tags": [],
            "needs_background": "light"
          }
        }
      ]
    },
    {
      "cell_type": "code",
      "metadata": {
        "id": "lDmVLFZEQ0YG",
        "colab_type": "code",
        "colab": {
          "base_uri": "https://localhost:8080/",
          "height": 166
        },
        "outputId": "3971bcde-88cc-484f-a0c5-2f35818c1993"
      },
      "source": [
        "for i in range(4):\n",
        "  z2, a2, y_hat = hacia_adelante(X[i], W1t, b1t)\n",
        "  \n",
        "  if y_hat<0.5:\n",
        "    y_hat_label = 0\n",
        "  else:\n",
        "    y_hat_label = 1  \n",
        "  \n",
        "  print(y[i],y_hat_label)\n",
        "\n",
        "print(\"****\")\n",
        "print(\"W=\",W1t)\n",
        "print(\"b=\",b1t)\n",
        "\n"
      ],
      "execution_count": 62,
      "outputs": [
        {
          "output_type": "stream",
          "text": [
            "[0] 0\n",
            "[1] 1\n",
            "[1] 1\n",
            "[1] 1\n",
            "****\n",
            "W= [[3.27718617]\n",
            " [2.31276667]]\n",
            "b= [[-0.95953331]]\n"
          ],
          "name": "stdout"
        }
      ]
    }
  ]
}