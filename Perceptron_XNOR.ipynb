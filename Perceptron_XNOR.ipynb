{
  "nbformat": 4,
  "nbformat_minor": 0,
  "metadata": {
    "colab": {
      "name": "Perceptron_XNOR.ipynb",
      "provenance": [],
      "authorship_tag": "ABX9TyPgyOcjp/7kCnNUTgMaO3IF",
      "include_colab_link": true
    },
    "kernelspec": {
      "name": "python3",
      "display_name": "Python 3"
    }
  },
  "cells": [
    {
      "cell_type": "markdown",
      "metadata": {
        "id": "view-in-github",
        "colab_type": "text"
      },
      "source": [
        "<a href=\"https://colab.research.google.com/github/DonRoboto/RedesNeuronales/blob/master/Perceptron_XNOR.ipynb\" target=\"_parent\"><img src=\"https://colab.research.google.com/assets/colab-badge.svg\" alt=\"Open In Colab\"/></a>"
      ]
    },
    {
      "cell_type": "code",
      "metadata": {
        "id": "D5m7uNEBZVn1",
        "colab_type": "code",
        "colab": {}
      },
      "source": [
        "import numpy as np\n",
        "import scipy as sp\n",
        "import matplotlib.pyplot as plt\n",
        "from sklearn import datasets"
      ],
      "execution_count": 0,
      "outputs": []
    },
    {
      "cell_type": "code",
      "metadata": {
        "id": "Ouvfvr4Jbcd0",
        "colab_type": "code",
        "colab": {}
      },
      "source": [
        "def escalon(z):\n",
        "    if z > 0.0:\n",
        "        return 1.0\n",
        "    else:\n",
        "        return 0.0"
      ],
      "execution_count": 0,
      "outputs": []
    },
    {
      "cell_type": "code",
      "metadata": {
        "id": "t4zw8Mx9be2N",
        "colab_type": "code",
        "colab": {}
      },
      "source": [
        "def neurona(x, w, b):\n",
        "  z = np.dot(w.T, x) + b\n",
        "  a = escalon(z)\n",
        "\n",
        "  return a"
      ],
      "execution_count": 0,
      "outputs": []
    },
    {
      "cell_type": "code",
      "metadata": {
        "id": "BgTvI-rQb2no",
        "colab_type": "code",
        "colab": {}
      },
      "source": [
        "def multicapa_XNOR(X, W1, b1):  \n",
        "  #primer perceptron NOR\n",
        "  y_hat_1 = neurona(X, W1, b1)  \n",
        "\n",
        "  #segundo perceptron NOR\n",
        "  x_aux_1 = np.array([X[0], y_hat_1])\n",
        "  y_hat_2 = neurona(x_aux_1, W1, b1)\n",
        "\n",
        "  #tercer perceptron NOR\n",
        "  x_aux_2 = np.array([y_hat_1, X[1]])\n",
        "  y_hat_3 = neurona(x_aux_2, W1, b1)\n",
        "\n",
        "  #cuarto perceptron NOR\n",
        "  x_aux_3 = np.array([y_hat_2, y_hat_3])\n",
        "  y_hat_4 = neurona(x_aux_3, W1, b1)\n",
        "\n",
        "  return y_hat_4"
      ],
      "execution_count": 0,
      "outputs": []
    },
    {
      "cell_type": "code",
      "metadata": {
        "id": "5WozGTcnbkod",
        "colab_type": "code",
        "colab": {
          "base_uri": "https://localhost:8080/",
          "height": 146
        },
        "outputId": "ef012974-ae6c-4c44-a94f-596606367cb9"
      },
      "source": [
        "#datos de entrada\n",
        "X = np.array([[0., 0.], [0., 1.], [1., 0.], [1., 1.]])\n",
        "\n",
        "#parametros adecuados para una NOR\n",
        "W1 = np.array([-10, -10]).T\n",
        "b1 = 5\n",
        "\n",
        "\n",
        "print('-----------------------------')\n",
        "print('x_1 \\tx_2 \\ty_hat')\n",
        "print('-----------------------------')\n",
        "for i in range(X.shape[0]):\n",
        "  y_hat = multicapa_XNOR(X[i, :], W1, b1)\n",
        "  \n",
        "  print('{0} \\t{1}\\t{2}'.format(X[i, 0], X[i, 1], y_hat))\n",
        "\n"
      ],
      "execution_count": 5,
      "outputs": [
        {
          "output_type": "stream",
          "text": [
            "-----------------------------\n",
            "x_1 \tx_2 \ty_hat\n",
            "-----------------------------\n",
            "0.0 \t0.0\t1.0\n",
            "0.0 \t1.0\t0.0\n",
            "1.0 \t0.0\t0.0\n",
            "1.0 \t1.0\t1.0\n"
          ],
          "name": "stdout"
        }
      ]
    }
  ]
}