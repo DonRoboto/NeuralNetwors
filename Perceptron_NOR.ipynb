{
  "nbformat": 4,
  "nbformat_minor": 0,
  "metadata": {
    "colab": {
      "name": "Perceptron_NOR.ipynb",
      "provenance": [],
      "include_colab_link": true
    },
    "kernelspec": {
      "name": "python3",
      "display_name": "Python 3"
    }
  },
  "cells": [
    {
      "cell_type": "markdown",
      "metadata": {
        "id": "view-in-github",
        "colab_type": "text"
      },
      "source": [
        "<a href=\"https://colab.research.google.com/github/DonRoboto/RedesNeuronales/blob/master/Perceptron_NOR.ipynb\" target=\"_parent\"><img src=\"https://colab.research.google.com/assets/colab-badge.svg\" alt=\"Open In Colab\"/></a>"
      ]
    },
    {
      "cell_type": "markdown",
      "metadata": {
        "id": "5FcC9uKVNWEX",
        "colab_type": "text"
      },
      "source": [
        "##Perceptron XOR"
      ]
    },
    {
      "cell_type": "code",
      "metadata": {
        "id": "HUdSablUNZ27",
        "colab_type": "code",
        "colab": {}
      },
      "source": [
        "import numpy as np\n",
        "import scipy as sp\n",
        "import matplotlib.pyplot as plt\n",
        "from sklearn import datasets"
      ],
      "execution_count": 0,
      "outputs": []
    },
    {
      "cell_type": "markdown",
      "metadata": {
        "id": "NwRuHyUkNm0M",
        "colab_type": "text"
      },
      "source": [
        "##Unidad de umbral lineal\n",
        "La operación que lleva a cabo una neurona artificial está dada por la suma pesada evaluada en una función de activación $\\phi$.  Una de las primeras funciones de activación utilizadas fue la escalón unitario, definida como\n",
        "\n",
        "$\n",
        "\\phi(x) = \\begin{cases} 1, & \\text{si } x > 0\\\\0, & \\text{en caso contrario}\\end{cases}\n",
        "$\n",
        "\n",
        "Esta se puede llevar a cabo con la siguiente función de Python:"
      ]
    },
    {
      "cell_type": "code",
      "metadata": {
        "id": "b3cYs_JHNoCS",
        "colab_type": "code",
        "colab": {}
      },
      "source": [
        "def escalon(z):\n",
        "    if z > 0.0:\n",
        "        return 1.0\n",
        "    else:\n",
        "        return 0.0"
      ],
      "execution_count": 0,
      "outputs": []
    },
    {
      "cell_type": "markdown",
      "metadata": {
        "id": "RM8UMUhQN3Vc",
        "colab_type": "text"
      },
      "source": [
        "$\n",
        "z = w_1 \\cdot x_1 + w_2 \\cdot x_2 + \\cdots + w_d \\cdot x_d + b \n",
        "$\n",
        "\n",
        "En su forma vectorial\n",
        "\n",
        "$\n",
        "z = \\mathbf{w}^T \\mathbf{x} + b\n",
        "$\n"
      ]
    },
    {
      "cell_type": "code",
      "metadata": {
        "id": "8eelqxdxN4MT",
        "colab_type": "code",
        "colab": {}
      },
      "source": [
        "def neurona(x, w, b):\n",
        "  z = np.dot(w.T, x) + b\n",
        "  a = escalon(z)\n",
        "\n",
        "  return a"
      ],
      "execution_count": 0,
      "outputs": []
    },
    {
      "cell_type": "markdown",
      "metadata": {
        "id": "ZxpL8UlEOGvS",
        "colab_type": "text"
      },
      "source": [
        "### NOR (-$\\lor$)\n",
        "Esta neurona es capaz de aproximar el operador NOR, cuya salida es 1 cuando las dos entradas son 0:\n",
        "\n",
        "\n",
        "| $x_1$ | $x_2$ | $y$\n",
        "| ------------- |:-------------:| -----:|\n",
        "|0 |0 |1|\n",
        "|0 |1 |0|\n",
        "|1 |0 |0|\n",
        "|1 |1 |0|\n",
        "\n",
        "La neurona recibe 2 valores binarios como entrada y produce un valor binario como salida. Específicamente, la neurona calcularía\n",
        "\n",
        "$\n",
        "\\hat{y} = \\phi(w_1 \\cdot x_1 + w_2 \\cdot x_2 + b)\n",
        "$\n",
        "\n",
        "Para poder aproximar la operación NOR (-$\\lor$) es necesario encontrar los valores apropiados de $w_1$, $w_2$ y $b$. Una posible elección sería -10, -10 y 5 respectivamente. Verifiquemos estos valores:"
      ]
    },
    {
      "cell_type": "code",
      "metadata": {
        "id": "qLnkaXpDOIDn",
        "colab_type": "code",
        "outputId": "7cece9e5-5834-4d84-9026-ed373db6d69d",
        "colab": {
          "base_uri": "https://localhost:8080/",
          "height": 146
        }
      },
      "source": [
        "X = np.array([[0., 0.], [0., 1.], [1., 0.], [1., 1.]])\n",
        "w = np.array([-10, -10]).T\n",
        "b = 5\n",
        "\n",
        "print('-----------------------------')\n",
        "print('x_1 \\tx_2 \\ty_hat')\n",
        "print('-----------------------------')\n",
        "for i in range(X.shape[0]):\n",
        "  y_hat = neurona(X[i, :], w, b)\n",
        "  print('{0} \\t{1}\\t{2}'.format(X[i, 0], X[i, 1], y_hat))"
      ],
      "execution_count": 0,
      "outputs": [
        {
          "output_type": "stream",
          "text": [
            "-----------------------------\n",
            "x_1 \tx_2 \ty_hat\n",
            "-----------------------------\n",
            "0.0 \t0.0\t1.0\n",
            "0.0 \t1.0\t0.0\n",
            "1.0 \t0.0\t0.0\n",
            "1.0 \t1.0\t0.0\n"
          ],
          "name": "stdout"
        }
      ]
    }
  ]
}