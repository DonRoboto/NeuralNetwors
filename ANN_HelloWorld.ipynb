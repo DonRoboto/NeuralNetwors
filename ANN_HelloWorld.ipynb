{
  "nbformat": 4,
  "nbformat_minor": 0,
  "metadata": {
    "colab": {
      "name": "ANN_HelloWorld.ipynb",
      "provenance": [],
      "authorship_tag": "ABX9TyM6Ee2BRzDNCI0/mg8aFbTH",
      "include_colab_link": true
    },
    "kernelspec": {
      "name": "python3",
      "display_name": "Python 3"
    }
  },
  "cells": [
    {
      "cell_type": "markdown",
      "metadata": {
        "id": "view-in-github",
        "colab_type": "text"
      },
      "source": [
        "<a href=\"https://colab.research.google.com/github/DonRoboto/RedesNeuronales/blob/master/ANN_HelloWorld.ipynb\" target=\"_parent\"><img src=\"https://colab.research.google.com/assets/colab-badge.svg\" alt=\"Open In Colab\"/></a>"
      ]
    },
    {
      "cell_type": "code",
      "metadata": {
        "id": "sk3EgUl6Rx0n",
        "colab_type": "code",
        "colab": {}
      },
      "source": [
        "import tensorflow as tf\n",
        "import numpy as np\n",
        "from tensorflow import keras"
      ],
      "execution_count": 0,
      "outputs": []
    },
    {
      "cell_type": "code",
      "metadata": {
        "id": "hDDsue5FRyps",
        "colab_type": "code",
        "colab": {}
      },
      "source": [
        "# GRADED FUNCTION: house_model\n",
        "# EL PRECIO DE LA CASA INICIA EN 50K Y AUMENTA 50K POR CADA HABITACION (1 HABITACION -> PRECIO 100K, 2 HABITACION -> PRECIO 150K, ETC)\n",
        "def house_model(y_new):\n",
        "    xs = np.array([1,2,3,4,5,6], dtype=float) \n",
        "    ys = np.array([1.0,1.5,2.0,2.5,3.0,3.5], dtype=float)\n",
        "\n",
        "    model = keras.Sequential([keras.layers.Dense(units=1, input_shape=[1])])\n",
        "    \n",
        "    model.compile(optimizer='sgd', loss='mean_squared_error')\n",
        "    model.fit(xs, ys, epochs=10)\n",
        "\n",
        "    return model.predict(y_new)[0]"
      ],
      "execution_count": 0,
      "outputs": []
    },
    {
      "cell_type": "code",
      "metadata": {
        "id": "qHvbH4P2R3Gr",
        "colab_type": "code",
        "colab": {
          "base_uri": "https://localhost:8080/",
          "height": 408
        },
        "outputId": "cabcc940-099a-43f6-82ff-58a27a318865"
      },
      "source": [
        "prediction = house_model([7.0])\n",
        "print(\"Prediction = \", prediction)"
      ],
      "execution_count": 121,
      "outputs": [
        {
          "output_type": "stream",
          "text": [
            "Epoch 1/10\n",
            "1/1 [==============================] - 0s 1ms/step - loss: 29.3085\n",
            "Epoch 2/10\n",
            "1/1 [==============================] - 0s 1ms/step - loss: 13.5686\n",
            "Epoch 3/10\n",
            "1/1 [==============================] - 0s 1ms/step - loss: 6.2837\n",
            "Epoch 4/10\n",
            "1/1 [==============================] - 0s 2ms/step - loss: 2.9120\n",
            "Epoch 5/10\n",
            "1/1 [==============================] - 0s 1ms/step - loss: 1.3514\n",
            "Epoch 6/10\n",
            "1/1 [==============================] - 0s 2ms/step - loss: 0.6291\n",
            "Epoch 7/10\n",
            "1/1 [==============================] - 0s 1ms/step - loss: 0.2948\n",
            "Epoch 8/10\n",
            "1/1 [==============================] - 0s 1ms/step - loss: 0.1400\n",
            "Epoch 9/10\n",
            "1/1 [==============================] - 0s 2ms/step - loss: 0.0684\n",
            "Epoch 10/10\n",
            "1/1 [==============================] - 0s 1ms/step - loss: 0.0352\n",
            "Prediction =  [3.91503]\n"
          ],
          "name": "stdout"
        }
      ]
    }
  ]
}