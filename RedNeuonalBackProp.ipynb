{
  "nbformat": 4,
  "nbformat_minor": 0,
  "metadata": {
    "colab": {
      "name": "RedNeuonalBackProp.ipynb",
      "provenance": [],
      "authorship_tag": "ABX9TyMtU4V5i1+803Few5yAIMjv",
      "include_colab_link": true
    },
    "kernelspec": {
      "name": "python3",
      "display_name": "Python 3"
    }
  },
  "cells": [
    {
      "cell_type": "markdown",
      "metadata": {
        "id": "view-in-github",
        "colab_type": "text"
      },
      "source": [
        "<a href=\"https://colab.research.google.com/github/DonRoboto/RedesNeuronales/blob/master/RedNeuonalBackProp.ipynb\" target=\"_parent\"><img src=\"https://colab.research.google.com/assets/colab-badge.svg\" alt=\"Open In Colab\"/></a>"
      ]
    },
    {
      "cell_type": "markdown",
      "metadata": {
        "id": "1T_SnNxhlmL8",
        "colab_type": "text"
      },
      "source": [
        "Red Neuoronal Densa entrenada con Backpropagation"
      ]
    },
    {
      "cell_type": "code",
      "metadata": {
        "id": "Lwjtc0ORlo6W",
        "colab_type": "code",
        "colab": {}
      },
      "source": [
        "import numpy as np"
      ],
      "execution_count": 0,
      "outputs": []
    },
    {
      "cell_type": "markdown",
      "metadata": {
        "id": "JPEoOPiCmMRZ",
        "colab_type": "text"
      },
      "source": [
        "Esta red neuronal densa está compuesta por una capa de 2 entradas ($x_1$ y $x_2$), una capa oculta con 3 neuronas con función de activación sigmoide y una capa de salida con una sola neurona con función de activación sigmoide. Esta función de activación se define como:\n",
        "\n",
        "$$\n",
        "\\sigma(z) = \\frac{1}{1 + e^{-z}}\n",
        "$$"
      ]
    },
    {
      "cell_type": "code",
      "metadata": {
        "id": "f012Cb-mmOHa",
        "colab_type": "code",
        "colab": {}
      },
      "source": [
        "def sigmoide(z):\n",
        "    return 1 / (1 + np.exp(-z))"
      ],
      "execution_count": 0,
      "outputs": []
    },
    {
      "cell_type": "markdown",
      "metadata": {
        "id": "5nnNYpLpmUUN",
        "colab_type": "text"
      },
      "source": [
        "La función sigmoide tiene una derivada que está expresada en términos de la misma función, esto es, \n",
        "\n",
        "$$\n",
        "\\frac{\\partial \\sigma (z)}{\\partial z} = \\sigma(z) (1 - \\sigma(z))\n",
        "$$"
      ]
    },
    {
      "cell_type": "code",
      "metadata": {
        "id": "_3A1AWkOmU3_",
        "colab_type": "code",
        "colab": {}
      },
      "source": [
        "def derivada_sigmoide(x):\n",
        "    return np.multiply(sigmoide(x), (1.0 - sigmoide(x)))"
      ],
      "execution_count": 0,
      "outputs": []
    },
    {
      "cell_type": "markdown",
      "metadata": {
        "id": "TD8hjsvzmYbd",
        "colab_type": "text"
      },
      "source": [
        "Podemos ver la operación XOR como una tarea de clasificación binaria a partir de 2 entradas. Por lo tanto, usaremos la función de pérdida de entropía cruzada binaria:\n",
        "\n",
        "$$\n",
        "ECB(\\mathbf{y}, \\mathbf{\\hat{y}})  = -\\sum_{i=1}^N \\left[ y^{(i)} \\log \\hat{y}^{(i)} + (1 - y^{(i)}) \\log (1 - \\hat{y}^{(i)}) \\right]\n",
        "$$"
      ]
    },
    {
      "cell_type": "code",
      "metadata": {
        "id": "7iRKFDSkmiCu",
        "colab_type": "code",
        "colab": {}
      },
      "source": [
        "def entropia_cruzada_binaria(y, p):\n",
        "    p[p == 0] = np.nextafter(0., 1.)\n",
        "    p[p == 1] = np.nextafter(1., 0.)\n",
        "    return -(np.log(p[y == 1]).sum() + np.log(1 - p[y == 0]).sum())"
      ],
      "execution_count": 0,
      "outputs": []
    },
    {
      "cell_type": "markdown",
      "metadata": {
        "id": "NIA7ElvomopQ",
        "colab_type": "text"
      },
      "source": [
        "Calcularemos la exactitud para medir el rendimiento del modelo aprendido por la red neuronal densa:\n",
        "\n",
        "$$\n",
        "exactitud = \\frac{correctos}{total}\n",
        "$$"
      ]
    },
    {
      "cell_type": "code",
      "metadata": {
        "id": "_2XrfEmbmwST",
        "colab_type": "code",
        "colab": {}
      },
      "source": [
        "def exactitud(y, y_predicha):\n",
        "    return (y == y_predicha).mean() * 100"
      ],
      "execution_count": 0,
      "outputs": []
    },
    {
      "cell_type": "markdown",
      "metadata": {
        "id": "2Gq7cnVIm3Wd",
        "colab_type": "text"
      },
      "source": [
        "Definimos la función que propaga hacia adelante una entrada $\\mathbf{x}^{i}$. Como la red está compuesta de 2 capas densas (1 oculta y 1 de salida), tenemos 2 matrices de pesos con sus correspondientes vectores de sesgos $\\{\\mathbf{W}^{\\{1\\}}, \\mathbf{b}^{\\{1\\}}\\}$ y $\\{\\mathbf{W}^{\\{2\\}}, \\mathbf{b}^{\\{2\\}}\\}$ de la capa oculta y la capa de salida respectivamente. Así, podemos llevar a cabo la propagación hacia adelante en esta red de la siguiente manera:\n",
        "\n",
        "$$\n",
        "\t\\begin{split}\n",
        "\t\t\t\t\\mathbf{a}^{\\{1\\}} & =  \\mathbf{x}^{(i)} \\\\\n",
        "\t\t\t\t\\mathbf{z}^{\\{2\\}} & =  \\mathbf{W}^{\\{1\\}} \\cdot \\mathbf{a}^{\\{1\\}} + \\mathbf{b}^{\\{1\\}}\\\\\n",
        "\t\t\t\t\\mathbf{a}^{\\{2\\}} & =  \\sigma(\\mathbf{z}^{\\{2\\}}) \\\\\n",
        "\t\t\t\t\\mathbf{z}^{\\{3\\}} & =  \\mathbf{W}^{\\{2\\}} \\cdot \\mathbf{a}^{\\{2\\}}  + \\mathbf{b}^{\\{2\\}}\\\\\n",
        "\t\t\t\t\\mathbf{a}^{\\{3\\}} & =  \\sigma(\\mathbf{z}^{\\{3\\}})\\\\\n",
        "\t\t\t\t\\hat{y}^{(i)} & =  \\mathbf{a}^{\\{3\\}}\n",
        "\t\t\t\\end{split}\n",
        "      $$"
      ]
    },
    {
      "cell_type": "code",
      "metadata": {
        "id": "RdhyJ-Djm47B",
        "colab_type": "code",
        "colab": {}
      },
      "source": [
        "def hacia_adelante(x, W1, b1, W2, b2, W3, b3, W4, b4):\n",
        "  z2 = np.dot(W1.T, x[:, np.newaxis]) + b1\n",
        "  a2 = sigmoide(z2)  \n",
        "  z3 = np.dot(W2.T, a2) + b2\n",
        "  a3 = sigmoide(z3)\n",
        "  z4 = np.dot(W3.T, a3) + b3\n",
        "  a4 = sigmoide(z4)\n",
        "  z5 = np.dot(W4.T, a4) + b4\n",
        "    \n",
        "  y_hat = sigmoide(z5)\n",
        "  \n",
        "  return z2, a2, z3, a3, z4, a4, z5, y_hat"
      ],
      "execution_count": 0,
      "outputs": []
    },
    {
      "cell_type": "markdown",
      "metadata": {
        "id": "hhWipi9ZnXnh",
        "colab_type": "text"
      },
      "source": [
        "Definimos la función para entrenar nuestra red neuronal usando gradiente descendente. Para calcular el gradiente de la función de pérdida respecto a los pesos y sesgos en cada capa empleamos el algoritmo de retropropagación de errores.\n"
      ]
    },
    {
      "cell_type": "code",
      "metadata": {
        "id": "EvweYD_YnEJK",
        "colab_type": "code",
        "colab": {}
      },
      "source": [
        "def retropropagacion(X, y, alpha = 0.01, n_epocas = 100, n_ocultas = 10):\n",
        "    n_ejemplos = X.shape[0]\n",
        "    n_entradas = X.shape[1]\n",
        "    \n",
        "    # Inicialización de las matrices de pesos W y V\n",
        "    W1 = np.sqrt(1.0 / n_entradas) * np.random.randn(n_entradas, n_ocultas)\n",
        "    b1 = np.zeros((n_ocultas, 1))\n",
        "    \n",
        "    W2 = np.sqrt(1.0 / n_ocultas) * np.random.randn(n_ocultas, n_ocultas)\n",
        "    b2 = np.zeros((1, 1))\n",
        "    \n",
        "    W3 = np.sqrt(1.0 / n_ocultas) * np.random.randn(n_ocultas, n_ocultas)\n",
        "    b3 = np.zeros((1, 1))\n",
        "\n",
        "    W4 = np.sqrt(1.0 / n_ocultas) * np.random.randn(n_ocultas, 1)\n",
        "    b4 = np.zeros((1, 1))\n",
        "    \n",
        "    perdidas = np.zeros((n_epocas))\n",
        "    exactitudes = np.zeros((n_epocas))\n",
        "    y_predicha = np.zeros((y.shape))\n",
        "    for i in range(n_epocas):\n",
        "        for j in range(n_ejemplos):\n",
        "            z2, a2, z3, a3, z4, a4, z5, y_hat = hacia_adelante(X[j], W1, b1, W2, b2, W3, b3, W4, b4)\n",
        "\n",
        "            # cálculo de gradiente para W3 por retropropagación\n",
        "            delta5 = (y_hat - y[j]) * derivada_sigmoide(z5)\n",
        "            W4 = W4 - alpha * np.outer(a4, delta5)\n",
        "            b4 = b4 - alpha * delta5\n",
        "\n",
        "            # cálculo de gradiente para W3 por retropropagación\n",
        "            delta4 = (y_hat - y[j]) * derivada_sigmoide(z4)\n",
        "            W3 = W3 - alpha * np.outer(a3, delta4)\n",
        "            b3 = b3 - alpha * delta4\n",
        "            \n",
        "            # cálculo de gradiente para W2 por retropropagación\n",
        "            delta3 = (y_hat - y[j]) * derivada_sigmoide(z3)\n",
        "            W2 = W2 - alpha * np.outer(a2, delta3)\n",
        "            b2 = b2 - alpha * delta3\n",
        "\n",
        "            # cálculo de gradiente para W1 por retropropagación\n",
        "            delta2 = np.dot(W2, delta3) * derivada_sigmoide(z2)\n",
        "            W1 = W1 - alpha * np.outer(X[j], delta2)\n",
        "            b1 = b1 - alpha * delta2\n",
        "\n",
        "            y_predicha[j] = y_hat\n",
        "            \n",
        "        # calcula error en época\n",
        "        perdidas[i] = entropia_cruzada_binaria(y, y_predicha)\n",
        "        exactitudes[i] = exactitud(y, np.round(y_predicha))\n",
        "        if i%10==0:\n",
        "          print('Epoch {0}: Error = {1} Exactitud = {2}'.format(i, \n",
        "                                                              perdidas[i], \n",
        "                                                              exactitudes[i]))\n",
        "\n",
        "    return W1, W2, W3, W4, b1, b2, b3, b4, perdidas, exactitudes"
      ],
      "execution_count": 0,
      "outputs": []
    },
    {
      "cell_type": "markdown",
      "metadata": {
        "id": "-9SYqDosnhFV",
        "colab_type": "text"
      },
      "source": [
        "# ejemplo (XNOR)"
      ]
    },
    {
      "cell_type": "code",
      "metadata": {
        "id": "esvDLE0OntcU",
        "colab_type": "code",
        "colab": {}
      },
      "source": [
        "X = np.array([[0, 0], [0, 1], [1, 0], [1, 1]])\n",
        "y = np.array([[1, 0, 0, 1]]).T"
      ],
      "execution_count": 0,
      "outputs": []
    },
    {
      "cell_type": "markdown",
      "metadata": {
        "id": "RJM2vZNHn181",
        "colab_type": "text"
      },
      "source": [
        "Finalmente, entrenamos nuestra red con estos ejemplos por 200 épocas usando una tasa de aprendizaje $\\alpha = 1.0$."
      ]
    },
    {
      "cell_type": "code",
      "metadata": {
        "id": "xS0A9tVFn4WY",
        "colab_type": "code",
        "colab": {
          "base_uri": "https://localhost:8080/",
          "height": 1000
        },
        "outputId": "aa4cbba0-a0ab-4aa3-d456-041233285f06"
      },
      "source": [
        "np.random.seed(0)\n",
        "W1t, W2t, W3t, W4t, b1t, b2t, b3t, b4t, perdidas, exactitudes = retropropagacion(X, \n",
        "                                                 y, \n",
        "                                                 alpha = 1.0, \n",
        "                                                 n_epocas = 1000,\n",
        "                                                 n_ocultas = 10)"
      ],
      "execution_count": 20,
      "outputs": [
        {
          "output_type": "stream",
          "text": [
            "Epoch 0: Error = 3.2875035895537 Exactitud = 50.0\n",
            "Epoch 10: Error = 4.434426346777828 Exactitud = 50.0\n",
            "Epoch 20: Error = 4.488684454264117 Exactitud = 50.0\n",
            "Epoch 30: Error = 4.506652238938841 Exactitud = 50.0\n",
            "Epoch 40: Error = 4.515809657298049 Exactitud = 50.0\n",
            "Epoch 50: Error = 4.520692804648317 Exactitud = 50.0\n",
            "Epoch 60: Error = 4.521813116853505 Exactitud = 50.0\n",
            "Epoch 70: Error = 4.515807370689476 Exactitud = 50.0\n",
            "Epoch 80: Error = 4.470088591170661 Exactitud = 50.0\n",
            "Epoch 90: Error = 4.0942306258209324 Exactitud = 25.0\n",
            "Epoch 100: Error = 3.396474975982227 Exactitud = 25.0\n",
            "Epoch 110: Error = 2.960848350766512 Exactitud = 75.0\n",
            "Epoch 120: Error = 2.8297571494580733 Exactitud = 75.0\n",
            "Epoch 130: Error = 2.7822231744940575 Exactitud = 75.0\n",
            "Epoch 140: Error = 2.763050432656656 Exactitud = 75.0\n",
            "Epoch 150: Error = 2.754944990361451 Exactitud = 75.0\n",
            "Epoch 160: Error = 2.7516815284954808 Exactitud = 75.0\n",
            "Epoch 170: Error = 2.7507539940515287 Exactitud = 75.0\n",
            "Epoch 180: Error = 2.7509998588727234 Exactitud = 75.0\n",
            "Epoch 190: Error = 2.751808070793402 Exactitud = 75.0\n",
            "Epoch 200: Error = 2.7528287282485326 Exactitud = 75.0\n",
            "Epoch 210: Error = 2.753852962698488 Exactitud = 75.0\n",
            "Epoch 220: Error = 2.754757046581039 Exactitud = 75.0\n",
            "Epoch 230: Error = 2.755473206221647 Exactitud = 75.0\n",
            "Epoch 240: Error = 2.7559723407904233 Exactitud = 75.0\n",
            "Epoch 250: Error = 2.7562523298510975 Exactitud = 75.0\n",
            "Epoch 260: Error = 2.7563291838229924 Exactitud = 75.0\n",
            "Epoch 270: Error = 2.756229936484901 Exactitud = 75.0\n",
            "Epoch 280: Error = 2.7559869355354465 Exactitud = 75.0\n",
            "Epoch 290: Error = 2.755633473366162 Exactitud = 75.0\n",
            "Epoch 300: Error = 2.755200732063461 Exactitud = 75.0\n",
            "Epoch 310: Error = 2.7547159369883576 Exactitud = 75.0\n",
            "Epoch 320: Error = 2.7542015184559214 Exactitud = 75.0\n",
            "Epoch 330: Error = 2.7536750235067116 Exactitud = 75.0\n",
            "Epoch 340: Error = 2.7531495138759605 Exactitud = 75.0\n",
            "Epoch 350: Error = 2.7526342216239845 Exactitud = 75.0\n",
            "Epoch 360: Error = 2.752135290547919 Exactitud = 75.0\n",
            "Epoch 370: Error = 2.7516564910876316 Exactitud = 75.0\n",
            "Epoch 380: Error = 2.7511998472424146 Exactitud = 75.0\n",
            "Epoch 390: Error = 2.7507661512388033 Exactitud = 75.0\n",
            "Epoch 400: Error = 2.7503553654463433 Exactitud = 75.0\n",
            "Epoch 410: Error = 2.7499669239367646 Exactitud = 75.0\n",
            "Epoch 420: Error = 2.7495999514121445 Exactitud = 75.0\n",
            "Epoch 430: Error = 2.749253417941377 Exactitud = 75.0\n",
            "Epoch 440: Error = 2.7489262462689488 Exactitud = 75.0\n",
            "Epoch 450: Error = 2.748617385884544 Exactitud = 75.0\n",
            "Epoch 460: Error = 2.7483258654714438 Exactitud = 75.0\n",
            "Epoch 470: Error = 2.7480508333062397 Exactitud = 75.0\n",
            "Epoch 480: Error = 2.747791593989899 Exactitud = 75.0\n",
            "Epoch 490: Error = 2.747547649867922 Exactitud = 75.0\n",
            "Epoch 500: Error = 2.747318757166142 Exactitud = 75.0\n",
            "Epoch 510: Error = 2.7471050112905573 Exactitud = 75.0\n",
            "Epoch 520: Error = 2.7469069852065986 Exactitud = 75.0\n",
            "Epoch 530: Error = 2.7467259644403303 Exactitud = 75.0\n",
            "Epoch 540: Error = 2.7465643639862876 Exactitud = 75.0\n",
            "Epoch 550: Error = 2.7464265059595734 Exactitud = 75.0\n",
            "Epoch 560: Error = 2.746320161665216 Exactitud = 75.0\n",
            "Epoch 570: Error = 2.746259849830554 Exactitud = 75.0\n",
            "Epoch 580: Error = 2.7462745791744805 Exactitud = 75.0\n",
            "Epoch 590: Error = 2.746428150640917 Exactitud = 75.0\n",
            "Epoch 600: Error = 2.7468788316342745 Exactitud = 75.0\n",
            "Epoch 610: Error = 2.748065013303158 Exactitud = 75.0\n",
            "Epoch 620: Error = 2.7512787316348755 Exactitud = 75.0\n",
            "Epoch 630: Error = 2.7625138103373157 Exactitud = 75.0\n",
            "Epoch 640: Error = 2.803385084343228 Exactitud = 75.0\n",
            "Epoch 650: Error = 2.711381053913623 Exactitud = 50.0\n",
            "Epoch 660: Error = 2.417995907565225 Exactitud = 75.0\n",
            "Epoch 670: Error = 2.059737858408373 Exactitud = 50.0\n",
            "Epoch 680: Error = 0.5964641264500741 Exactitud = 100.0\n",
            "Epoch 690: Error = 0.38009564590132827 Exactitud = 100.0\n",
            "Epoch 700: Error = 0.2991062656200497 Exactitud = 100.0\n",
            "Epoch 710: Error = 0.2537799827545194 Exactitud = 100.0\n",
            "Epoch 720: Error = 0.22393095482474068 Exactitud = 100.0\n",
            "Epoch 730: Error = 0.20241738857786068 Exactitud = 100.0\n",
            "Epoch 740: Error = 0.18598218372977626 Exactitud = 100.0\n",
            "Epoch 750: Error = 0.1728968618403953 Exactitud = 100.0\n",
            "Epoch 760: Error = 0.16214205690292566 Exactitud = 100.0\n",
            "Epoch 770: Error = 0.15306187317108896 Exactitud = 100.0\n",
            "Epoch 780: Error = 0.14519471311277887 Exactitud = 100.0\n",
            "Epoch 790: Error = 0.1381883908702871 Exactitud = 100.0\n",
            "Epoch 800: Error = 0.1318168180964322 Exactitud = 100.0\n",
            "Epoch 810: Error = 0.1261087846873686 Exactitud = 100.0\n",
            "Epoch 820: Error = 0.12118489929550616 Exactitud = 100.0\n",
            "Epoch 830: Error = 0.1169557364590139 Exactitud = 100.0\n",
            "Epoch 840: Error = 0.11325956558619699 Exactitud = 100.0\n",
            "Epoch 850: Error = 0.10997212385071835 Exactitud = 100.0\n",
            "Epoch 860: Error = 0.10700762878368839 Exactitud = 100.0\n",
            "Epoch 870: Error = 0.10430614300886777 Exactitud = 100.0\n",
            "Epoch 880: Error = 0.10182434514337266 Exactitud = 100.0\n",
            "Epoch 890: Error = 0.09952981238660785 Exactitud = 100.0\n",
            "Epoch 900: Error = 0.09739757505846872 Exactitud = 100.0\n",
            "Epoch 910: Error = 0.09540803266765197 Exactitud = 100.0\n",
            "Epoch 920: Error = 0.09354571709415854 Exactitud = 100.0\n",
            "Epoch 930: Error = 0.09179866411133245 Exactitud = 100.0\n",
            "Epoch 940: Error = 0.09015833569127626 Exactitud = 100.0\n",
            "Epoch 950: Error = 0.08862004412097663 Exactitud = 100.0\n",
            "Epoch 960: Error = 0.08718296649759111 Exactitud = 100.0\n",
            "Epoch 970: Error = 0.08584544987950002 Exactitud = 100.0\n",
            "Epoch 980: Error = 0.08459168399842124 Exactitud = 100.0\n",
            "Epoch 990: Error = 0.08339075029702044 Exactitud = 100.0\n"
          ],
          "name": "stdout"
        }
      ]
    },
    {
      "cell_type": "markdown",
      "metadata": {
        "id": "fxVgqDT3n-3C",
        "colab_type": "text"
      },
      "source": [
        "Graficamos el valor de la pérdida y la exactitud en cada época para ver el comportamiento de nuestra red durante el entrenamiento:"
      ]
    },
    {
      "cell_type": "code",
      "metadata": {
        "id": "TollJWBPoBCm",
        "colab_type": "code",
        "colab": {
          "base_uri": "https://localhost:8080/",
          "height": 265
        },
        "outputId": "0a6adcb9-0755-44ae-d09b-1644d81e9558"
      },
      "source": [
        "import matplotlib.pyplot as plt\n",
        "plt.plot(np.arange(perdidas.size), perdidas, label='ECB')\n",
        "plt.plot(np.arange(exactitudes.size), exactitudes, label='Exactitud')\n",
        "plt.legend()\n",
        "plt.grid(True)\n",
        "plt.show()"
      ],
      "execution_count": 21,
      "outputs": [
        {
          "output_type": "display_data",
          "data": {
            "image/png": "[encoded data removed]",
            "text/plain": [
              "<Figure size 432x288 with 1 Axes>"
            ]
          },
          "metadata": {
            "tags": [],
            "needs_background": "light"
          }
        }
      ]
    },
    {
      "cell_type": "markdown",
      "metadata": {
        "id": "L4LG2BeOob0G",
        "colab_type": "text"
      },
      "source": [
        "Probamos nuestro modelo"
      ]
    },
    {
      "cell_type": "code",
      "metadata": {
        "id": "sARPHxlMod8M",
        "colab_type": "code",
        "colab": {
          "base_uri": "https://localhost:8080/",
          "height": 90
        },
        "outputId": "5ad02d3c-4bca-43f1-851a-0e133ecfbb40"
      },
      "source": [
        "for i in range(4):\n",
        "  z2, a2, z3, a3, z4, a4, z5, y_hat = hacia_adelante(X[i], W1t, b1t, W2t, b2t, W3t, b3t, W4t, b4t)\n",
        "  \n",
        "  if y_hat<0.5:\n",
        "    y_hat_label = 0\n",
        "  else:\n",
        "    y_hat_label = 1  \n",
        "  \n",
        "  print(y[i],y_hat_label)"
      ],
      "execution_count": 22,
      "outputs": [
        {
          "output_type": "stream",
          "text": [
            "[1] 1\n",
            "[0] 0\n",
            "[0] 0\n",
            "[1] 1\n"
          ],
          "name": "stdout"
        }
      ]
    }
  ]
}