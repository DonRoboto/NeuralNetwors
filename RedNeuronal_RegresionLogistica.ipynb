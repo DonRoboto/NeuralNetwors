{
  "nbformat": 4,
  "nbformat_minor": 0,
  "metadata": {
    "colab": {
      "name": "RedNeuronal_RegresionLogistica.ipynb",
      "provenance": [],
      "authorship_tag": "ABX9TyMS2Xww1s/nQa6DkQvYl6kj",
      "include_colab_link": true
    },
    "kernelspec": {
      "name": "python3",
      "display_name": "Python 3"
    }
  },
  "cells": [
    {
      "cell_type": "markdown",
      "metadata": {
        "id": "view-in-github",
        "colab_type": "text"
      },
      "source": [
        "<a href=\"https://colab.research.google.com/github/DonRoboto/RedesNeuronales/blob/master/RedNeuronal_RegresionLogistica.ipynb\" target=\"_parent\"><img src=\"https://colab.research.google.com/assets/colab-badge.svg\" alt=\"Open In Colab\"/></a>"
      ]
    },
    {
      "cell_type": "markdown",
      "metadata": {
        "id": "pXoUzvZZqjtd",
        "colab_type": "text"
      },
      "source": [
        "##Regresión Logística"
      ]
    },
    {
      "cell_type": "code",
      "metadata": {
        "id": "Q-ZJm_RrqmTu",
        "colab_type": "code",
        "colab": {}
      },
      "source": [
        "try:\n",
        "  %tensorflow_version 2.x\n",
        "except Exception:\n",
        "  pass\n",
        "\n",
        "import matplotlib.pyplot as plt\n",
        "import numpy as np\n",
        "import pandas as pd\n",
        "import tensorflow as tf\n",
        "from tensorflow.keras.layers import Dense\n",
        "from tensorflow.keras import Model\n",
        "\n",
        "# para reproducibilidad\n",
        "tf.random.set_seed(2020)\n",
        "\n",
        "import os\n",
        "\n",
        "import matplotlib.pyplot as plt\n",
        "import numpy as np\n",
        "import pandas as pd\n",
        "import tensorflow as tf\n",
        "from tensorflow.keras.layers import Dense\n",
        "from tensorflow.keras import Model\n",
        "\n",
        "# silenciar TF\n",
        "os.environ['TF_CPP_MIN_LOG_LEVEL'] = '2'\n",
        "\n",
        "tf.random.set_seed(2019)"
      ],
      "execution_count": 0,
      "outputs": []
    },
    {
      "cell_type": "markdown",
      "metadata": {
        "id": "qS3Da7Xzqw3J",
        "colab_type": "text"
      },
      "source": [
        "Datos de iris"
      ]
    },
    {
      "cell_type": "code",
      "metadata": {
        "id": "xt8hEzlpqykf",
        "colab_type": "code",
        "colab": {
          "base_uri": "https://localhost:8080/",
          "height": 489
        },
        "outputId": "c3275896-eef0-406e-f4dd-1961c7e03b33"
      },
      "source": [
        "columns = ('largo sépalo', 'ancho sépalo', 'largo pétalo', 'ancho pétalo', 'clase')\n",
        "df = pd.read_csv('https://raw.githubusercontent.com/DonRoboto/RedesNeuronales/master/data/iris.csv', names=columns)\n",
        "pd.concat((df[1:5], df[50:55], df[100:105]))"
      ],
      "execution_count": 2,
      "outputs": [
        {
          "output_type": "execute_result",
          "data": {
            "text/html": [
              "<div>\n",
              "<style scoped>\n",
              "    .dataframe tbody tr th:only-of-type {\n",
              "        vertical-align: middle;\n",
              "    }\n",
              "\n",
              "    .dataframe tbody tr th {\n",
              "        vertical-align: top;\n",
              "    }\n",
              "\n",
              "    .dataframe thead th {\n",
              "        text-align: right;\n",
              "    }\n",
              "</style>\n",
              "<table border=\"1\" class=\"dataframe\">\n",
              "  <thead>\n",
              "    <tr style=\"text-align: right;\">\n",
              "      <th></th>\n",
              "      <th>largo sépalo</th>\n",
              "      <th>ancho sépalo</th>\n",
              "      <th>largo pétalo</th>\n",
              "      <th>ancho pétalo</th>\n",
              "      <th>clase</th>\n",
              "    </tr>\n",
              "  </thead>\n",
              "  <tbody>\n",
              "    <tr>\n",
              "      <th>1</th>\n",
              "      <td>4.9</td>\n",
              "      <td>3.0</td>\n",
              "      <td>1.4</td>\n",
              "      <td>0.2</td>\n",
              "      <td>Iris-setosa</td>\n",
              "    </tr>\n",
              "    <tr>\n",
              "      <th>2</th>\n",
              "      <td>4.7</td>\n",
              "      <td>3.2</td>\n",
              "      <td>1.3</td>\n",
              "      <td>0.2</td>\n",
              "      <td>Iris-setosa</td>\n",
              "    </tr>\n",
              "    <tr>\n",
              "      <th>3</th>\n",
              "      <td>4.6</td>\n",
              "      <td>3.1</td>\n",
              "      <td>1.5</td>\n",
              "      <td>0.2</td>\n",
              "      <td>Iris-setosa</td>\n",
              "    </tr>\n",
              "    <tr>\n",
              "      <th>4</th>\n",
              "      <td>5.0</td>\n",
              "      <td>3.6</td>\n",
              "      <td>1.4</td>\n",
              "      <td>0.2</td>\n",
              "      <td>Iris-setosa</td>\n",
              "    </tr>\n",
              "    <tr>\n",
              "      <th>50</th>\n",
              "      <td>7.0</td>\n",
              "      <td>3.2</td>\n",
              "      <td>4.7</td>\n",
              "      <td>1.4</td>\n",
              "      <td>Iris-versicolor</td>\n",
              "    </tr>\n",
              "    <tr>\n",
              "      <th>51</th>\n",
              "      <td>6.4</td>\n",
              "      <td>3.2</td>\n",
              "      <td>4.5</td>\n",
              "      <td>1.5</td>\n",
              "      <td>Iris-versicolor</td>\n",
              "    </tr>\n",
              "    <tr>\n",
              "      <th>52</th>\n",
              "      <td>6.9</td>\n",
              "      <td>3.1</td>\n",
              "      <td>4.9</td>\n",
              "      <td>1.5</td>\n",
              "      <td>Iris-versicolor</td>\n",
              "    </tr>\n",
              "    <tr>\n",
              "      <th>53</th>\n",
              "      <td>5.5</td>\n",
              "      <td>2.3</td>\n",
              "      <td>4.0</td>\n",
              "      <td>1.3</td>\n",
              "      <td>Iris-versicolor</td>\n",
              "    </tr>\n",
              "    <tr>\n",
              "      <th>54</th>\n",
              "      <td>6.5</td>\n",
              "      <td>2.8</td>\n",
              "      <td>4.6</td>\n",
              "      <td>1.5</td>\n",
              "      <td>Iris-versicolor</td>\n",
              "    </tr>\n",
              "    <tr>\n",
              "      <th>100</th>\n",
              "      <td>6.3</td>\n",
              "      <td>3.3</td>\n",
              "      <td>6.0</td>\n",
              "      <td>2.5</td>\n",
              "      <td>Iris-virginica</td>\n",
              "    </tr>\n",
              "    <tr>\n",
              "      <th>101</th>\n",
              "      <td>5.8</td>\n",
              "      <td>2.7</td>\n",
              "      <td>5.1</td>\n",
              "      <td>1.9</td>\n",
              "      <td>Iris-virginica</td>\n",
              "    </tr>\n",
              "    <tr>\n",
              "      <th>102</th>\n",
              "      <td>7.1</td>\n",
              "      <td>3.0</td>\n",
              "      <td>5.9</td>\n",
              "      <td>2.1</td>\n",
              "      <td>Iris-virginica</td>\n",
              "    </tr>\n",
              "    <tr>\n",
              "      <th>103</th>\n",
              "      <td>6.3</td>\n",
              "      <td>2.9</td>\n",
              "      <td>5.6</td>\n",
              "      <td>1.8</td>\n",
              "      <td>Iris-virginica</td>\n",
              "    </tr>\n",
              "    <tr>\n",
              "      <th>104</th>\n",
              "      <td>6.5</td>\n",
              "      <td>3.0</td>\n",
              "      <td>5.8</td>\n",
              "      <td>2.2</td>\n",
              "      <td>Iris-virginica</td>\n",
              "    </tr>\n",
              "  </tbody>\n",
              "</table>\n",
              "</div>"
            ],
            "text/plain": [
              "     largo sépalo  ancho sépalo  largo pétalo  ancho pétalo            clase\n",
              "1             4.9           3.0           1.4           0.2      Iris-setosa\n",
              "2             4.7           3.2           1.3           0.2      Iris-setosa\n",
              "3             4.6           3.1           1.5           0.2      Iris-setosa\n",
              "4             5.0           3.6           1.4           0.2      Iris-setosa\n",
              "50            7.0           3.2           4.7           1.4  Iris-versicolor\n",
              "51            6.4           3.2           4.5           1.5  Iris-versicolor\n",
              "52            6.9           3.1           4.9           1.5  Iris-versicolor\n",
              "53            5.5           2.3           4.0           1.3  Iris-versicolor\n",
              "54            6.5           2.8           4.6           1.5  Iris-versicolor\n",
              "100           6.3           3.3           6.0           2.5   Iris-virginica\n",
              "101           5.8           2.7           5.1           1.9   Iris-virginica\n",
              "102           7.1           3.0           5.9           2.1   Iris-virginica\n",
              "103           6.3           2.9           5.6           1.8   Iris-virginica\n",
              "104           6.5           3.0           5.8           2.2   Iris-virginica"
            ]
          },
          "metadata": {
            "tags": []
          },
          "execution_count": 2
        }
      ]
    },
    {
      "cell_type": "markdown",
      "metadata": {
        "id": "_bakmlxuq7p5",
        "colab_type": "text"
      },
      "source": [
        "El modelo de regresión logística que entrenaremos resolverá una tarea de clasificación binaria sobre este conjunto considerando únicamente como entrada el largo del peétalo y como salida las dos primeras clases. Grafiquemos la entrada contra la salida para visualizar su relación"
      ]
    },
    {
      "cell_type": "code",
      "metadata": {
        "id": "eEGItzXJq-dy",
        "colab_type": "code",
        "colab": {
          "base_uri": "https://localhost:8080/",
          "height": 280
        },
        "outputId": "1a6bf2fe-5712-4a1a-8fb4-55132a6d9bf7"
      },
      "source": [
        "label2index = {'Iris-setosa': 0, 'Iris-versicolor': 1}\n",
        "x_train = np.array(df.iloc[:, 3][:100])[..., np.newaxis]\n",
        "y_true_train = [label2index[l] for l in df.iloc[:, -1][:100]]\n",
        "y_true_train = np.array(y_true_train)[..., np.newaxis]\n",
        "plt.plot(x_train[:50], y_true_train[:50], '.', label='Iris-setosa')\n",
        "plt.plot(x_train[50:], y_true_train[50:], '.', label='Iris-versicolor')\n",
        "plt.xlabel('ancho pétalo')\n",
        "plt.ylabel('clase')\n",
        "plt.legend(loc='lower right')\n",
        "plt.show()"
      ],
      "execution_count": 3,
      "outputs": [
        {
          "output_type": "display_data",
          "data": {
            "image/png": "[encoded data removed]",
            "text/plain": [
              "<Figure size 432x288 with 1 Axes>"
            ]
          },
          "metadata": {
            "tags": [],
            "needs_background": "light"
          }
        }
      ]
    },
    {
      "cell_type": "markdown",
      "metadata": {
        "id": "BLpg0zFPrO0w",
        "colab_type": "text"
      },
      "source": [
        "Tubería de Datos"
      ]
    },
    {
      "cell_type": "code",
      "metadata": {
        "id": "jW2kQDM4rQkT",
        "colab_type": "code",
        "colab": {
          "base_uri": "https://localhost:8080/",
          "height": 54
        },
        "outputId": "36999dfa-4fb2-455d-851e-c1ddb0d0b52b"
      },
      "source": [
        "batch_size = 16\n",
        "ds = tf.data.Dataset.from_tensor_slices((x_train, y_true_train))\n",
        "ds = ds.shuffle(len(df))\n",
        "ds = ds.batch(batch_size)\n",
        "\n",
        "for x, y_true in ds:\n",
        "    print('x={} x.shape={}'.format(x.numpy().flatten(), x.shape))\n",
        "    print('y={} y_true.shape={}'.format(y_true.numpy().flatten(), y_true.shape))\n",
        "    break"
      ],
      "execution_count": 4,
      "outputs": [
        {
          "output_type": "stream",
          "text": [
            "x=[0.2 1.2 1.3 0.2 1.3 0.3 0.2 1.5 0.4 0.2 0.2 1.3 0.2 0.2 0.4 0.1] x.shape=(16, 1)\n",
            "y=[0 1 1 0 1 0 0 1 0 0 0 1 0 0 0 0] y_true.shape=(16, 1)\n"
          ],
          "name": "stdout"
        }
      ]
    },
    {
      "cell_type": "markdown",
      "metadata": {
        "id": "If70tJMnrU_e",
        "colab_type": "text"
      },
      "source": [
        "##Definición del Modelo"
      ]
    },
    {
      "cell_type": "code",
      "metadata": {
        "id": "sw2eeuGorYNC",
        "colab_type": "code",
        "colab": {}
      },
      "source": [
        "class LogReg(Model):\n",
        "\n",
        "  def __init__(self):\n",
        "    super(LogReg, self).__init__()\n",
        "    self.fc = Dense(1, activation=tf.nn.sigmoid)\n",
        "\n",
        "  def call(self, x):\n",
        "    return self.fc(x)"
      ],
      "execution_count": 0,
      "outputs": []
    },
    {
      "cell_type": "markdown",
      "metadata": {
        "id": "l95CYrvHr8pG",
        "colab_type": "text"
      },
      "source": [
        "Función de Pérdida"
      ]
    },
    {
      "cell_type": "code",
      "metadata": {
        "id": "13NJvutPr-d3",
        "colab_type": "code",
        "colab": {}
      },
      "source": [
        "loss_fn = tf.keras.losses.BinaryCrossentropy()\n",
        "optimizer = tf.keras.optimizers.SGD(learning_rate=0.1)"
      ],
      "execution_count": 0,
      "outputs": []
    },
    {
      "cell_type": "markdown",
      "metadata": {
        "id": "_mnvtTpgsBK8",
        "colab_type": "text"
      },
      "source": [
        "Definición de Métricas"
      ]
    },
    {
      "cell_type": "code",
      "metadata": {
        "id": "kFeWX_2esDWm",
        "colab_type": "code",
        "colab": {}
      },
      "source": [
        "# historial de pérdidas\n",
        "train_loss = tf.keras.metrics.BinaryCrossentropy()\n",
        "# historial de exactitudes\n",
        "train_acc = tf.keras.metrics.BinaryAccuracy()"
      ],
      "execution_count": 0,
      "outputs": []
    },
    {
      "cell_type": "markdown",
      "metadata": {
        "id": "px8rdFtQsHQa",
        "colab_type": "text"
      },
      "source": [
        "Entrenamiento"
      ]
    },
    {
      "cell_type": "code",
      "metadata": {
        "id": "5VhoQbnqsIZn",
        "colab_type": "code",
        "colab": {
          "base_uri": "https://localhost:8080/",
          "height": 1000
        },
        "outputId": "11d07ae2-9fd5-4d8a-df59-19c3ba92ffb8"
      },
      "source": [
        "model = LogReg()\n",
        "\n",
        "epochs = 100\n",
        "\n",
        "for epoch in range(epochs):\n",
        "    \n",
        "    for x, y_true in ds:\n",
        "        \n",
        "        with tf.GradientTape() as tape:\n",
        "            y_pred = model(x)\n",
        "            loss = loss_fn(y_true, y_pred)            \n",
        "        \n",
        "        gradients = tape.gradient(loss, model.trainable_variables)\n",
        "        optimizer.apply_gradients(zip(gradients, model.trainable_variables))\n",
        "\n",
        "        train_loss(y_true, y_pred)\n",
        "        train_acc(y_true, y_pred)\n",
        "    \n",
        "    loss = train_loss.result() * 100\n",
        "    acc = train_acc.result() * 100\n",
        "    train_loss.reset_states()\n",
        "    train_acc.reset_states()\n",
        "\n",
        "    print('E{:3d} loss={:6.2f}, acc={:6.2f}'.format(epoch, loss, acc))"
      ],
      "execution_count": 10,
      "outputs": [
        {
          "output_type": "stream",
          "text": [
            "WARNING:tensorflow:Layer log_reg_1 is casting an input tensor from dtype float64 to the layer's dtype of float32, which is new behavior in TensorFlow 2.  The layer has dtype float32 because it's dtype defaults to floatx.\n",
            "\n",
            "If you intended to run this layer in float32, you can safely ignore this warning. If in doubt, this warning is likely only an issue if you are porting a TensorFlow 1.X model to TensorFlow 2.\n",
            "\n",
            "To change all layers to have dtype float64 by default, call `tf.keras.backend.set_floatx('float64')`. To change just this layer, pass dtype='float64' to the layer constructor. If you are the author of this layer, you can disable autocasting by passing autocast=False to the base Layer constructor.\n",
            "\n",
            "E  0 loss=115.50, acc= 50.00\n",
            "E  1 loss= 98.29, acc= 28.00\n",
            "E  2 loss= 87.25, acc=  6.00\n",
            "E  3 loss= 80.08, acc=  0.00\n",
            "E  4 loss= 74.58, acc= 19.00\n",
            "E  5 loss= 70.24, acc= 50.00\n",
            "E  6 loss= 66.63, acc= 50.00\n",
            "E  7 loss= 63.38, acc= 50.00\n",
            "E  8 loss= 60.62, acc= 50.00\n",
            "E  9 loss= 58.12, acc= 54.00\n",
            "E 10 loss= 55.89, acc= 56.00\n",
            "E 11 loss= 53.76, acc= 75.00\n",
            "E 12 loss= 51.79, acc= 84.00\n",
            "E 13 loss= 49.91, acc= 91.00\n",
            "E 14 loss= 48.16, acc= 91.00\n",
            "E 15 loss= 46.56, acc= 92.00\n",
            "E 16 loss= 45.00, acc= 97.00\n",
            "E 17 loss= 43.54, acc= 98.00\n",
            "E 18 loss= 42.17, acc= 98.00\n",
            "E 19 loss= 40.84, acc= 98.00\n",
            "E 20 loss= 39.62, acc= 99.00\n",
            "E 21 loss= 38.41, acc= 99.00\n",
            "E 22 loss= 37.35, acc= 99.00\n",
            "E 23 loss= 36.34, acc= 99.00\n",
            "E 24 loss= 35.28, acc= 99.00\n",
            "E 25 loss= 34.33, acc= 99.00\n",
            "E 26 loss= 33.44, acc= 99.00\n",
            "E 27 loss= 32.60, acc= 99.00\n",
            "E 28 loss= 31.78, acc= 99.00\n",
            "E 29 loss= 31.00, acc= 99.00\n",
            "E 30 loss= 30.23, acc= 99.00\n",
            "E 31 loss= 29.51, acc=100.00\n",
            "E 32 loss= 28.80, acc=100.00\n",
            "E 33 loss= 28.17, acc=100.00\n",
            "E 34 loss= 27.52, acc=100.00\n",
            "E 35 loss= 26.93, acc=100.00\n",
            "E 36 loss= 26.35, acc=100.00\n",
            "E 37 loss= 25.81, acc=100.00\n",
            "E 38 loss= 25.27, acc=100.00\n",
            "E 39 loss= 24.75, acc=100.00\n",
            "E 40 loss= 24.28, acc=100.00\n",
            "E 41 loss= 23.81, acc=100.00\n",
            "E 42 loss= 23.34, acc=100.00\n",
            "E 43 loss= 22.95, acc=100.00\n",
            "E 44 loss= 22.49, acc=100.00\n",
            "E 45 loss= 22.07, acc=100.00\n",
            "E 46 loss= 21.70, acc=100.00\n",
            "E 47 loss= 21.32, acc=100.00\n",
            "E 48 loss= 20.97, acc=100.00\n",
            "E 49 loss= 20.62, acc=100.00\n",
            "E 50 loss= 20.29, acc=100.00\n",
            "E 51 loss= 19.96, acc=100.00\n",
            "E 52 loss= 19.64, acc=100.00\n",
            "E 53 loss= 19.33, acc=100.00\n",
            "E 54 loss= 19.03, acc=100.00\n",
            "E 55 loss= 18.76, acc=100.00\n",
            "E 56 loss= 18.48, acc=100.00\n",
            "E 57 loss= 18.20, acc=100.00\n",
            "E 58 loss= 17.94, acc=100.00\n",
            "E 59 loss= 17.69, acc=100.00\n",
            "E 60 loss= 17.42, acc=100.00\n",
            "E 61 loss= 17.19, acc=100.00\n",
            "E 62 loss= 16.96, acc=100.00\n",
            "E 63 loss= 16.73, acc=100.00\n",
            "E 64 loss= 16.52, acc=100.00\n",
            "E 65 loss= 16.31, acc=100.00\n",
            "E 66 loss= 16.09, acc=100.00\n",
            "E 67 loss= 15.89, acc=100.00\n",
            "E 68 loss= 15.69, acc=100.00\n",
            "E 69 loss= 15.49, acc=100.00\n",
            "E 70 loss= 15.30, acc=100.00\n",
            "E 71 loss= 15.11, acc=100.00\n",
            "E 72 loss= 14.93, acc=100.00\n",
            "E 73 loss= 14.76, acc=100.00\n",
            "E 74 loss= 14.59, acc=100.00\n",
            "E 75 loss= 14.43, acc=100.00\n",
            "E 76 loss= 14.26, acc=100.00\n",
            "E 77 loss= 14.11, acc=100.00\n",
            "E 78 loss= 13.97, acc=100.00\n",
            "E 79 loss= 13.79, acc=100.00\n",
            "E 80 loss= 13.65, acc=100.00\n",
            "E 81 loss= 13.51, acc=100.00\n",
            "E 82 loss= 13.36, acc=100.00\n",
            "E 83 loss= 13.22, acc=100.00\n",
            "E 84 loss= 13.09, acc=100.00\n",
            "E 85 loss= 12.95, acc=100.00\n",
            "E 86 loss= 12.82, acc=100.00\n",
            "E 87 loss= 12.70, acc=100.00\n",
            "E 88 loss= 12.57, acc=100.00\n",
            "E 89 loss= 12.46, acc=100.00\n",
            "E 90 loss= 12.33, acc=100.00\n",
            "E 91 loss= 12.21, acc=100.00\n",
            "E 92 loss= 12.10, acc=100.00\n",
            "E 93 loss= 11.99, acc=100.00\n",
            "E 94 loss= 11.88, acc=100.00\n",
            "E 95 loss= 11.77, acc=100.00\n",
            "E 96 loss= 11.66, acc=100.00\n",
            "E 97 loss= 11.56, acc=100.00\n",
            "E 98 loss= 11.46, acc=100.00\n",
            "E 99 loss= 11.36, acc=100.00\n"
          ],
          "name": "stdout"
        }
      ]
    },
    {
      "cell_type": "markdown",
      "metadata": {
        "id": "rjqY864UsL-i",
        "colab_type": "text"
      },
      "source": [
        "Inferencia"
      ]
    },
    {
      "cell_type": "code",
      "metadata": {
        "id": "5t-njYV-sNc7",
        "colab_type": "code",
        "colab": {
          "base_uri": "https://localhost:8080/",
          "height": 280
        },
        "outputId": "138f06b9-13f4-4ad9-cf58-ad67bcd68233"
      },
      "source": [
        "w, b = model.trainable_variables\n",
        "w, b = w.numpy()[0][0], b.numpy()[0]\n",
        "sigmoid = lambda x: (1 / (1 + np.exp(-x)))\n",
        "x_model = np.linspace(x_train[:100].min(), x_train[:100].max(), 100)[..., np.newaxis]\n",
        "y_model = sigmoid(x_model * w + b)\n",
        "plt.plot(x_train[:50], y_true_train[:50], '.', label='Iris-setosa')\n",
        "plt.plot(x_train[50:], y_true_train[50:], '.', label='Iris-versicolor')\n",
        "plt.plot(x_model, y_model, label='logreg')\n",
        "plt.xlabel('ancho pétalo')\n",
        "plt.ylabel('clase')\n",
        "plt.legend(loc='lower right')\n",
        "plt.show()\n",
        "\n"
      ],
      "execution_count": 11,
      "outputs": [
        {
          "output_type": "display_data",
          "data": {
            "image/png": "[encoded data removed]",
            "text/plain": [
              "<Figure size 432x288 with 1 Axes>"
            ]
          },
          "metadata": {
            "tags": [],
            "needs_background": "light"
          }
        }
      ]
    }
  ]
}